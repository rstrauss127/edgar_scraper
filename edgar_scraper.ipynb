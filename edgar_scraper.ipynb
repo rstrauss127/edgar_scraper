{
 "cells": [
  {
   "cell_type": "code",
   "execution_count": null,
   "metadata": {
    "collapsed": true
   },
   "outputs": [],
   "source": [
    "import urllib.request\n",
    "import lxml\n",
    "from bs4 import BeautifulSoup\n",
    "cik = input(\"Enter CIK number\")\n",
    "cik_search_url = \"https://www.sec.gov/cgi-bin/browse-edgar?CIK=\" + cik + \"&owner=exclude&action=getcompany\"\n",
    "\n",
    "with urllib.request.urlopen(cik_search_url) as response:\n",
    "   html = str(response.read())\n",
    "   \n",
    "soup = BeautifulSoup(html, 'html.parser')\n",
    "\n",
    "links = []\n",
    "for x in soup.find_all(\"tr\"):\n",
    "        if '13F' in x.text:\n",
    "            links.append(x.a.attrs['href'])\n",
    "           \n",
    "        \n",
    "index = \"https://www.sec.gov\" + links[0] #first in list is most recent\n",
    "index_html = urllib.request.urlopen(index).read()\n",
    "index_soup = BeautifulSoup(index_html, 'html.parser')\n",
    "\n",
    "full_doc_url = \"https://www.sec.gov\"\n",
    "for link in index_soup.find_all('a'):\n",
    "    if '.txt' in link.text:\n",
    "        full_doc_url = full_doc_url + link['href']\n",
    "\n",
    "\n",
    "with urllib.request.urlopen(full_doc_url) as response:\n",
    "   xml = response.read()\n",
    "xml_soup = BeautifulSoup(xml)\n",
    "\n",
    "f = open(\"myfile.txt\", \"w\")\n",
    "f.write(xml_soup.get_text())  \n",
    "\n",
    "f.close()  \n"
   ]
  }
 ],
 "metadata": {
  "kernelspec": {
   "display_name": "Python 2",
   "language": "python",
   "name": "python2"
  },
  "language_info": {
   "codemirror_mode": {
    "name": "ipython",
    "version": 2
   },
   "file_extension": ".py",
   "mimetype": "text/x-python",
   "name": "python",
   "nbconvert_exporter": "python",
   "pygments_lexer": "ipython2",
   "version": "2.7.6"
  }
 },
 "nbformat": 4,
 "nbformat_minor": 0
}
